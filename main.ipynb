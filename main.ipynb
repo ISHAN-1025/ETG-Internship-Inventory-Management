{
  "nbformat": 4,
  "nbformat_minor": 0,
  "metadata": {
    "colab": {
      "name": "main.ipynb",
      "provenance": [],
      "collapsed_sections": []
    },
    "kernelspec": {
      "name": "python3",
      "display_name": "Python 3"
    },
    "language_info": {
      "name": "python"
    }
  },
  "cells": [
    {
      "cell_type": "markdown",
      "metadata": {
        "id": "tdMiXSYc6KKv"
      },
      "source": [
        "## **View available Products**"
      ]
    },
    {
      "cell_type": "code",
      "metadata": {
        "id": "zgVvfmkD6JWA"
      },
      "source": [
        "file = open(\"record.json\", 'r')\n",
        "data = file.read()\n",
        "record = json.loads(data)\n",
        "print(\"\\t\\t\\t\\t\\t\\t\\tPRODUCT LIST\")\n",
        "print(\"\\n\\t\\t%-15s %-20s %-15s %-10s %-10s %-10s\" %(\"Product Id:\", \"Product Name:\", \"Company\", \"Price:\", \"Quantity:\", \"Expiry Date:\"))\n",
        "for i in record.keys():\n",
        "  print(\"\\t\\t%-15s %-20s %-15s %-10f %-10d %-10s\" %(i, record[i]['productname'][0:12], record[i]['productof'][0:12], record[i]['price'], record[i]['quanity'], record[i]['expirydate']))\n",
        "file.close()"
      ],
      "execution_count": null,
      "outputs": []
    },
    {
      "cell_type": "markdown",
      "metadata": {
        "id": "i-2uRaqZ6ftZ"
      },
      "source": [
        "## **Add New Products**"
      ]
    },
    {
      "cell_type": "code",
      "metadata": {
        "id": "8BBA28HH6lKC"
      },
      "source": [
        "file = open(\"record.json\", 'r')\n",
        "data = file.read()\n",
        "file.close()\n",
        "record = json.loads(data)\n",
        "id = input(\"\\t\\tEnter product id : \")\n",
        "name = input(\"\\t\\tEnter Product Name : \")\n",
        "cname = input(\"\\t\\tEnter Company Name : \")\n",
        "pricing = float(input(\"\\t\\tEnter price : \"))\n",
        "product_amt = int(input(\"\\t\\tEnter quantity : \"))\n",
        "ex = input(\"\\t\\tEnter Expiry Date : \")\n",
        "record[id] = {'productname': name,'price': pricing, 'quanity': product_amt, 'productof': cname, 'expirydate': ex}\n",
        "all_data = json.dumps(record)\n",
        "file = open(\"record.json\", 'w')\n",
        "file.write(all_data)\n",
        "file.close()"
      ],
      "execution_count": null,
      "outputs": []
    },
    {
      "cell_type": "markdown",
      "metadata": {
        "id": "EX1b3hQB6osS"
      },
      "source": [
        "## **Puchase any Products**"
      ]
    },
    {
      "cell_type": "code",
      "metadata": {
        "id": "f6o30K_36uNW"
      },
      "source": [
        "file = open(\"record.json\", 'r')\n",
        "data = file.read()\n",
        "file.close()\n",
        "record = json.loads(data)\n",
        "new_id = input(\"\\t\\tEnter the product_Id: \")\n",
        "new_quantity = int(input(\"\\t\\tEnter the quantity: \"))\n",
        "# For validating the number of product is more or not\n",
        "if(record[new_id]['quanity'] >= new_quantity):\n",
        "  print(\"\\n\\t\\t|Product: \", record[new_id]['productname'])\n",
        "  print(\"\\t\\t|Price: \", record[new_id]['price'])\n",
        "  print(\"\\t\\t|Billing Amount: \",record[new_id]['price'] * new_quantity)\n",
        "  print(\"\\t\\t\\t|Please Visit Again (*_*) \")\n",
        "  record[new_id]['quanity'] = record[new_id]['quanity'] - new_quantity\n",
        "\n",
        "  file = open(\"record.json\", 'w')\n",
        "  all_data = json.dumps(record)\n",
        "  file.write(all_data)\n",
        "  file.close()\n",
        "\n",
        "else:\n",
        "  print(\"\\n\\t\\t Sorry!! We have only \" + str(record[new_id]['quanity'])+\" Product!!\")\n",
        "\n",
        "print(\"\\n\\n\\n\")\n",
        "file = open(\"record.json\", 'r')\n",
        "data = file.read()\n",
        "record = json.loads(data)\n",
        "print(\"\\t\\t\\t\\t\\t\\tUPDATED PRODUCT LIST\")\n",
        "print(\"\\n\\t\\t%-15s %-20s %-15s %-10s %-10s %-10s\" %(\"Product Id:\", \"Product Name:\", \"Company\", \"Price:\", \"Quantity:\", \"Expiry Date:\"))\n",
        "for i in record.keys():\n",
        "  print(\"\\t\\t%-15s %-20s %-15s %-10f %-10d %-10s\" %(i, record[i]['productname'][0:12], record[i]['productof'][0:12], record[i]['price'], record[i]['quanity'], record[i]['expirydate']))\n",
        "file.close()"
      ],
      "execution_count": null,
      "outputs": []
    }
  ]
}